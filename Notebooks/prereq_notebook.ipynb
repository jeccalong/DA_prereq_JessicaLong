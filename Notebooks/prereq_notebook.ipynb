{
 "cells": [
  {
   "cell_type": "code",
   "execution_count": 2,
   "id": "af05a32d",
   "metadata": {},
   "outputs": [
    {
     "name": "stdout",
     "output_type": "stream",
     "text": [
      "!dlrow ,olleH\n"
     ]
    }
   ],
   "source": [
    "print (\"\".join(reversed(\"Hello, world!\")))"
   ]
  },
  {
   "cell_type": "markdown",
   "id": "ca8d0a02",
   "metadata": {},
   "source": [
    "Hi! I'm joining late because I'm transfering out of the AI class. I'm really excited to learn more about practical and useful ways to manage data in a class that hasn't been entirely AI generated. A super interesting data-related fact about my family is that we are all extremes in height. I am in the 99th percentile for height, my husband is in the 9th, my oldest daughter is in the 90th, my youngest daughter is in the 12th, and my son is in the 91st. Even our dogs are freaks and, while there aren't growth charts for dogs, using the breed average size for Golden Retrievers and a standard deviation of 7lbs, they are both in the 99th percentile. The only living household member that is an average size is our cat, Blackberry."
   ]
  }
 ],
 "metadata": {
  "kernelspec": {
   "display_name": "Python 3",
   "language": "python",
   "name": "python3"
  },
  "language_info": {
   "codemirror_mode": {
    "name": "ipython",
    "version": 3
   },
   "file_extension": ".py",
   "mimetype": "text/x-python",
   "name": "python",
   "nbconvert_exporter": "python",
   "pygments_lexer": "ipython3",
   "version": "3.13.1"
  }
 },
 "nbformat": 4,
 "nbformat_minor": 5
}
